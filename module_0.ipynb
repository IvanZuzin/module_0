{
 "cells": [
  {
   "cell_type": "code",
   "execution_count": 43,
   "metadata": {},
   "outputs": [
    {
     "output_type": "stream",
     "name": "stdout",
     "text": [
      "Загадано число от 1 до 100\nВы угадали число 45 за 6 попыток.\n"
     ]
    }
   ],
   "source": [
    "import numpy as np\n",
    "\n",
    "number = np.random.randint(1,101)      # загадали число\n",
    "\n",
    "print (\"Загадано число от 1 до 100\")\n",
    "\n",
    "def game_core_v3(number):\n",
    "    '''Начинаем с середины диапазона (50), в зависимости от результата \n",
    "    больше/меньше определяем новый диапозон в котором продолжаем искать число.\n",
    "    Функция принимает загаданное число и возвращает число попыток вместе с загаданным числом'''\n",
    "    \n",
    "    count = 0\n",
    "    min_range = 1\n",
    "    max_range = 100\n",
    "    predict = 50 # начальная позиция поиска\n",
    "    \n",
    "    while number != predict:\n",
    "        count += 1\n",
    "        if number > predict: \n",
    "            min_range = predict # определение ноговго минимума диапозона поиска\n",
    "            predict += int((max_range - min_range)//2 + (1 if (max_range - min_range)//2 == 0 else 0))   \n",
    "        elif number < predict: \n",
    "            max_range = predict # определение ноговго максимума диапозона поиска\n",
    "            predict -= int((max_range - min_range)//2 + (1 if (max_range - min_range)//2 == 0 else 0))\n",
    "    return print (f\"Вы угадали число {number} за {count} попыток.\")\n",
    "\n",
    "game_core_v3(number)"
   ]
  }
 ],
 "metadata": {
  "kernelspec": {
   "display_name": "Python 3",
   "language": "python",
   "name": "python3"
  },
  "language_info": {
   "codemirror_mode": {
    "name": "ipython",
    "version": 3
   },
   "file_extension": ".py",
   "mimetype": "text/x-python",
   "name": "python",
   "nbconvert_exporter": "python",
   "pygments_lexer": "ipython3",
   "version": "3.7.4-final"
  }
 },
 "nbformat": 4,
 "nbformat_minor": 2
}