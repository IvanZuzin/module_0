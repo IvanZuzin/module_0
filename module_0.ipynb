{
 "cells": [
  {
   "cell_type": "code",
   "execution_count": 16,
   "metadata": {
    "tags": []
   },
   "outputs": [
    {
     "output_type": "stream",
     "name": "stdout",
     "text": [
      "Загадано число от 1 до 100\nВаш алгоритм угадывает число в среднем за 5 попыток\n"
     ]
    },
    {
     "output_type": "execute_result",
     "data": {
      "text/plain": [
       "5"
      ]
     },
     "metadata": {},
     "execution_count": 16
    }
   ],
   "source": [
    "import numpy as np\n",
    "\n",
    "number = np.random.randint(1, 101)      # загадали число\n",
    "\n",
    "print (\"Загадано число от 1 до 100\")\n",
    "\n",
    "def game_core_v3(number):\n",
    "    '''Начинаем с середины диапазона (50), в зависимости от результата \n",
    "    больше/меньше определяем новый диапозон в котором продолжаем искать число.\n",
    "    Функция принимает загаданное число и возвращает число попыток вместе с загаданным числом'''\n",
    "\n",
    "    count = 1\n",
    "    min_range = 1\n",
    "    max_range = 100\n",
    "    predict = 50  # начальная позиция поиска\n",
    "\n",
    "    while number != predict:\n",
    "        count += 1\n",
    "        if number > predict:\n",
    "            min_range = predict  # определение ноговго минимума диапозона поиска\n",
    "            predict += int((max_range - min_range)//2 + (1 if (max_range - min_range)//2 == 0 else 0))\n",
    "        elif number < predict:\n",
    "            max_range = predict  # определение ноговго максимума диапозона поиска\n",
    "            predict -= int((max_range - min_range)//2 + (1 if (max_range - min_range)//2 == 0 else 0))\n",
    "    return count\n",
    "\n",
    "def score_game(game_core):\n",
    "    '''Запускаем игру 1000 раз, чтобы узнать, как быстро игра угадывает число'''\n",
    "    count_ls = []\n",
    "    np.random.seed(1)  # фиксируем RANDOM SEED, чтобы ваш эксперимент был воспроизводим!\n",
    "    random_array = np.random.randint(1, 101, size=(1000))\n",
    "    for number in random_array:\n",
    "        count_ls.append(game_core(number))\n",
    "    score = int(np.mean(count_ls))\n",
    "    print(f\"Ваш алгоритм угадывает число в среднем за {score} попыток\")\n",
    "    return(score)\n",
    "\n",
    "score_game(game_core_v3)\n"
   ]
  }
 ],
 "metadata": {
  "kernelspec": {
   "display_name": "Python 3",
   "language": "python",
   "name": "python3"
  },
  "language_info": {
   "codemirror_mode": {
    "name": "ipython",
    "version": 3
   },
   "file_extension": ".py",
   "mimetype": "text/x-python",
   "name": "python",
   "nbconvert_exporter": "python",
   "pygments_lexer": "ipython3",
   "version": "3.7.0-final"
  }
 },
 "nbformat": 4,
 "nbformat_minor": 2
}